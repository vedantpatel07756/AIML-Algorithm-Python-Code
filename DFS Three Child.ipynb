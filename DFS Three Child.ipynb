{
 "cells": [
  {
   "cell_type": "code",
   "execution_count": 1,
   "id": "ede0c1c6",
   "metadata": {},
   "outputs": [
    {
     "name": "stdout",
     "output_type": "stream",
     "text": [
      "Preorder traversal:\n",
      "A D I M C H G L B F E K H "
     ]
    }
   ],
   "source": [
    "class TernaryTreeNode:\n",
    "    def __init__(self, data):\n",
    "        self.data = data\n",
    "        self.leftChild = None\n",
    "        self.middleChild = None\n",
    "        self.rightChild = None\n",
    "\n",
    "# Example usage:\n",
    "root = TernaryTreeNode(\"A\")\n",
    "root.leftChild = TernaryTreeNode(\"B\")\n",
    "root.middleChild = TernaryTreeNode(\"C\")\n",
    "root.rightChild = TernaryTreeNode(\"D\")\n",
    "root.leftChild.leftChild = TernaryTreeNode(\"E\")\n",
    "# root.leftChild.middleChild = TernaryTreeNode(\"F\")\n",
    "root.leftChild.rightChild = TernaryTreeNode(\"F\")\n",
    "root.leftChild.leftChild.leftChild = TernaryTreeNode(\"J\")\n",
    "root.leftChild.leftChild.rightChild = TernaryTreeNode(\"K\")\n",
    "root.leftChild.leftChild.leftChild = TernaryTreeNode(\"H\")\n",
    "root.middleChild.leftChild = TernaryTreeNode(\"G\")\n",
    "root.middleChild.rightChild = TernaryTreeNode(\"H\")\n",
    "root.middleChild.leftChild.leftChild = TernaryTreeNode(\"L\")\n",
    "root.rightChild.rightChild = TernaryTreeNode(\"I\")\n",
    "root.rightChild.rightChild.leftChild = TernaryTreeNode(\"M\")\n",
    "\n",
    "\n",
    "\n",
    "def traversePreOrder(node):\n",
    "    \"\"\"\n",
    "    Perform DFS traversal (preorder) on the ternary tree.\n",
    "\n",
    "    Args:\n",
    "        node (TernaryTreeNode): Current node.\n",
    "\n",
    "    Returns:\n",
    "        None (Prints the data of each visited node).\n",
    "    \"\"\"\n",
    "    if node:\n",
    "        print(node.data, end=' ')  # Visit the current node\n",
    "        traversePreOrder(node.rightChild)  # Recurse on left subtree\n",
    "        traversePreOrder(node.middleChild)  # Recurse on middle subtree\n",
    "        traversePreOrder(node.leftChild)  # Recurse on right subtree\n",
    "\n",
    "# Example usage:\n",
    "print(\"Preorder traversal:\")\n",
    "traversePreOrder(root)\n"
   ]
  },
  {
   "cell_type": "code",
   "execution_count": null,
   "id": "ac105daf",
   "metadata": {},
   "outputs": [],
   "source": []
  }
 ],
 "metadata": {
  "kernelspec": {
   "display_name": "Python 3 (ipykernel)",
   "language": "python",
   "name": "python3"
  },
  "language_info": {
   "codemirror_mode": {
    "name": "ipython",
    "version": 3
   },
   "file_extension": ".py",
   "mimetype": "text/x-python",
   "name": "python",
   "nbconvert_exporter": "python",
   "pygments_lexer": "ipython3",
   "version": "3.9.12"
  }
 },
 "nbformat": 4,
 "nbformat_minor": 5
}
