{
 "cells": [
  {
   "cell_type": "code",
   "execution_count": 3,
   "id": "b36b5e93",
   "metadata": {},
   "outputs": [
    {
     "name": "stdout",
     "output_type": "stream",
     "text": [
      "Preorder traversal:\n",
      "A C G F B E D "
     ]
    }
   ],
   "source": [
    "class BinaryTreeNode:\n",
    "    def __init__(self, data):\n",
    "        self.data = data\n",
    "        self.leftChild = None\n",
    "        self.rightChild = None\n",
    "\n",
    "# Example usage:\n",
    "root = BinaryTreeNode(\"A\")\n",
    "root.leftChild = BinaryTreeNode(\"B\")\n",
    "root.rightChild = BinaryTreeNode(\"C\")\n",
    "root.leftChild.leftChild = BinaryTreeNode(\"D\")\n",
    "root.leftChild.rightChild = BinaryTreeNode(\"E\")\n",
    "root.rightChild.leftChild = BinaryTreeNode(\"F\")\n",
    "root.rightChild.rightChild = BinaryTreeNode(\"G\")\n",
    "\n",
    "def traversePreOrder(node):\n",
    "    \"\"\"\n",
    "    Perform DFS traversal (preorder) on the binary tree.\n",
    "\n",
    "    Args:\n",
    "        node (BinaryTreeNode): Current node.\n",
    "\n",
    "    Returns:\n",
    "        None (Prints the data of each visited node).\n",
    "    \"\"\"\n",
    "    if node:\n",
    "        print(node.data, end=' ')  # Visit the current node\n",
    "        traversePreOrder(node.rightChild)  # Recurse on left subtree\n",
    "        traversePreOrder(node.leftChild)  # Recurse on right subtree\n",
    "\n",
    "# Example usage:\n",
    "print(\"Preorder traversal:\")\n",
    "traversePreOrder(root)\n"
   ]
  },
  {
   "cell_type": "code",
   "execution_count": null,
   "id": "a4e61812",
   "metadata": {},
   "outputs": [],
   "source": []
  }
 ],
 "metadata": {
  "kernelspec": {
   "display_name": "Python 3 (ipykernel)",
   "language": "python",
   "name": "python3"
  },
  "language_info": {
   "codemirror_mode": {
    "name": "ipython",
    "version": 3
   },
   "file_extension": ".py",
   "mimetype": "text/x-python",
   "name": "python",
   "nbconvert_exporter": "python",
   "pygments_lexer": "ipython3",
   "version": "3.9.12"
  }
 },
 "nbformat": 4,
 "nbformat_minor": 5
}
